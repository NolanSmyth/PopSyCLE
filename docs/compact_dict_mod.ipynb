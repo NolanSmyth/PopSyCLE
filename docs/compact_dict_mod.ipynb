{
 "cells": [
  {
   "cell_type": "code",
   "execution_count": 1,
   "metadata": {
    "pycharm": {}
   },
   "outputs": [],
   "source": [
    "import warnings\n",
    "warnings.filterwarnings('ignore')\n",
    "\n",
    "import numpy as np\n",
    "import matplotlib.pyplot as plt\n",
    "import pandas as pd\n",
    "import h5py\n",
    "from popsycle import synthetic\n",
    "from popsycle import utils\n",
    "from astropy.table import Table\n",
    "from params import mock_roman_params\n",
    "from random import random\n",
    "from scipy.stats import maxwell\n",
    "\n",
    "import copy\n",
    "\n",
    "%reload_ext autoreload\n",
    "%autoreload 2"
   ]
  },
  {
   "attachments": {},
   "cell_type": "markdown",
   "metadata": {},
   "source": [
    "## Modify compact object dictionary with FFPs"
   ]
  },
  {
   "cell_type": "code",
   "execution_count": 2,
   "metadata": {},
   "outputs": [],
   "source": [
    "def sample_ffp_mass(N_ffps: int) -> np.ndarray:\n",
    "    '''\n",
    "    Sampling distribution of dn/dM propto M^-2 -> n propto M^-1.\n",
    "    Using inverse transform sampling of CDF M^-1\n",
    "    Returns an array of masses following this distribution with length N_ffps\n",
    "    '''\n",
    "\n",
    "    #Jupiter is about 1e-3 solar masses\n",
    "    # return np.ones(N_ffps) * 1e-3\n",
    "\n",
    "    M_min = 1.e-7\n",
    "    alpha = 2 \n",
    "    # Mass PDF M**-(alpha+1)\n",
    "    # Mass CDF M**-alpha\n",
    "\n",
    "    return np.array([M_min * (1-random())**(-1/(alpha-1)) for i in range(N_ffps)])\n",
    "\n",
    "def set_ffp_masses(ffp_arr: np.ndarray) -> None:\n",
    "    '''\n",
    "    Modifies the input dataframe to overwrite the masses of the ffps.\n",
    "    '''\n",
    "    N_objects = ffp_arr.shape[0]\n",
    "    masses = sample_ffp_mass(N_objects)\n",
    "    ffp_arr['mass'] = masses\n",
    "    #PopSyCLE sets Zero age main sequence mass,zams_mass, equal to mass for PBHs. \n",
    "    #Following this convention for ffps\n",
    "    ffp_arr['zams_mass'] = masses\n",
    "\n",
    "\n",
    "def set_ffp_photometry(ffp_arr: np.ndarray) -> None:\n",
    "    '''\n",
    "    Modifies the input dataframe to overwrite the photometry of the ffps.\n",
    "    '''\n",
    "    N_objects = ffp_arr.shape[0]\n",
    "    photometry_ffps = np.zeros(N_objects)\n",
    "\n",
    "    ffp_arr['ubv_J'] = photometry_ffps\n",
    "    ffp_arr['ubv_H'] = photometry_ffps\n",
    "    ffp_arr['ubv_K'] = photometry_ffps\n",
    "    ffp_arr['ubv_U'] = photometry_ffps\n",
    "    ffp_arr['ubv_I'] = photometry_ffps\n",
    "    ffp_arr['ubv_B'] = photometry_ffps\n",
    "    ffp_arr['ubv_V'] = photometry_ffps\n",
    "    ffp_arr['ubv_R'] = photometry_ffps\n",
    "\n",
    "def set_ffp_rem_id(ffp_arr: np.ndarray) -> None:\n",
    "    '''\n",
    "    Modifies the input dataframe to overwrite the remnant id of the ffps.\n",
    "    '''\n",
    "    N_objects = ffp_arr.shape[0]\n",
    "    #pbhs are highest remnant id implemented in popsycle so far so set ffps to 105\n",
    "    rem_ids = np.ones(N_objects) * 105\n",
    "    ffp_arr['rem_id'] = rem_ids\n",
    "\n",
    "def set_ffp_pop_id(ffp_arr: np.ndarray) -> None:\n",
    "    '''\n",
    "    Modifies the input dataframe to overwrite the pop id of the ffps.\n",
    "    Set it to 10 since this is what is done for PBHs\n",
    "    '''\n",
    "    N_objects = ffp_arr.shape[0]\n",
    "    #Population ID (e.g. Disk, Halo, Bulge. See https://galaxia.sourceforge.net/Galaxia3pub.html for details) 'popid'.\n",
    "    pop_ids = np.ones(N_objects) * 10\n",
    "\n",
    "def set_ffp_misc(ffp_arr: np.ndarray) -> None:\n",
    "    '''\n",
    "    Modifies the input dataframe to overwrite some miscilanious attributes of the ffps\n",
    "    that are not relevant for us. Set them to NaNs (this is what is done for PBHs I believe)\n",
    "    '''\n",
    "\n",
    "    # Bolometric magnitude: mbol, \n",
    "    # Surface gravity: grav,\n",
    "    # Metalicity: feh,\n",
    "    # log(age/yr): 'age',\n",
    "    # Effective temperature: teff\n",
    "    # Galactic Extinsion 'exbv'\n",
    "\n",
    "    N_objects = ffp_arr.shape[0]\n",
    "    misc_ffps_nans = np.full(N_objects, np.NaN)\n",
    "   \n",
    "    ffp_arr['mbol'] = misc_ffps_nans\n",
    "    ffp_arr['grav'] = misc_ffps_nans\n",
    "    ffp_arr['feh'] = misc_ffps_nans\n",
    "    ffp_arr['age'] = misc_ffps_nans\n",
    "    ffp_arr['teff'] = misc_ffps_nans\n",
    "    ffp_arr['exbv'] = misc_ffps_nans\n",
    "\n",
    "def set_ffp_positions(ffp_arr: np.ndarray) -> None:\n",
    "    '''\n",
    "    Modifies the input dataframe to overwrite the positions of the ffps.\n",
    "    # For now, just perturb the positions of the FFPs by a small amount\n",
    "    '''\n",
    "\n",
    "    noise_rad = np.random.normal(0, np.std(ffp_arr['rad']*.1), len(ffp_arr['rad']))\n",
    "    noise_glat = np.random.normal(0, np.std(ffp_arr['glat']*.1), len(ffp_arr['glat']))\n",
    "    noise_glon = np.random.normal(0, np.std(ffp_arr['glon']*.1), len(ffp_arr['glon']))\n",
    "\n",
    "    ffp_arr['rad'] = ffp_arr['rad'] + noise_rad\n",
    "    ffp_arr['glat']  = ffp_arr['glat'] + noise_glat\n",
    "    ffp_arr['glon']= ffp_arr['glon'] + noise_glon\n",
    "\n",
    "    position_helio = synthetic.galactic_to_heliocentric(\n",
    "                ffp_arr['rad'], ffp_arr['glat'], ffp_arr['glon']\n",
    "            )\n",
    "    ffp_arr['px'], ffp_arr['py'], ffp_arr['pz'] = position_helio\n",
    "\n",
    "def set_ffp_velocities(ffp_arr: np.ndarray, FFP_kick_speed_mean: int = 50) -> None:\n",
    "\n",
    "    # Maxwellian pdf is sqrt(2/pi) * x^2 * exp[-x^2/(2 * a^2)] / a^3,\n",
    "    # with a scale parameter `a`.\n",
    "    # The Maxwellian mean is 2 * a * sqrt(2/pi).\n",
    "    # Here we calculate the scipy.stats `scale` by dividing the\n",
    "    # user defined mean by the Maxwellian mean.\n",
    "\n",
    "    #! Still need to set the initial vx,vy,vz of the FFPs before the kick\n",
    "\n",
    "    FFP_kick_speed_scale = FFP_kick_speed_mean / (2 * np.sqrt(2 / np.pi))\n",
    "\n",
    "    FFP_kick_speed = maxwell.rvs(\n",
    "        loc=0, scale=FFP_kick_speed_scale, size=ffp_arr.shape[0]\n",
    "    )\n",
    "\n",
    "    FFP_kick = utils.sample_spherical(ffp_arr.shape[0], FFP_kick_speed)\n",
    "    ffp_arr[\"vx\"] += FFP_kick[0]\n",
    "    ffp_arr[\"vy\"] += FFP_kick[1]\n",
    "    ffp_arr[\"vz\"] += FFP_kick[2]\n",
    "\n",
    "    # ? They add precision to r, b, l in synthetic.py. Do we need to do this here? e.g.\n",
    "    # comp_dict[\"rad\"] = utils.add_precision64(comp_dict[\"rad\"], -4)\n",
    "\n",
    "    # Assign vr, mu_b, mu_lcosb.\n",
    "    comp_sph = synthetic.calc_sph_motion(\n",
    "        ffp_arr[\"vx\"],\n",
    "        ffp_arr[\"vy\"],\n",
    "        ffp_arr[\"vz\"],\n",
    "        ffp_arr[\"rad\"],\n",
    "        ffp_arr[\"glat\"],\n",
    "        ffp_arr[\"glon\"],\n",
    "    )\n",
    "    ffp_arr[\"vr\"], ffp_arr[\"mu_b\"], ffp_arr[\"mu_lcosb\"] = comp_sph\n",
    "\n",
    "def inject_ffp_params(ffp_arr: np.ndarray) -> None:\n",
    "    '''\n",
    "    Modifies the input numpy array to overwrite all relevant parameters for ffps\n",
    "    '''\n",
    "    set_ffp_masses(ffp_arr)\n",
    "    set_ffp_photometry(ffp_arr)\n",
    "    set_ffp_rem_id(ffp_arr)\n",
    "    set_ffp_misc(ffp_arr)\n",
    "    set_ffp_pop_id(ffp_arr)\n",
    "    set_ffp_positions(ffp_arr)\n",
    "    #make sure to set the velocities after positions\n",
    "    set_ffp_velocities(ffp_arr)\n",
    "\n",
    "    #todo\n",
    "    #Heliocentric velocities (in km/s): 'vx', 'vy', 'vz',\n",
    "    #Radial velocity and proper motions: 'vr', 'mu_b', 'mu_lcosb'\n",
    "    # Object number within given bin: obj_id - Don't think we care about this but should revisit later - obj_id\n",
    "\n"
   ]
  },
  {
   "cell_type": "code",
   "execution_count": 17,
   "metadata": {},
   "outputs": [],
   "source": [
    "def inject_ffps(hdf5_file: str = 'generated_files/ffp.h5', output_hdf5_file: str = 'generated_files/modified_ffp.h5') -> None:\n",
    "    '''\n",
    "    Injects ffps into the hdf5 file and saves the new hdf5 file\n",
    "    '''\n",
    "\n",
    "    no_ffp_hdf5_file = h5py.File(hdf5_file, \"r\")\n",
    "    ffp_hdf5_file = h5py.File(output_hdf5_file, \"w\")\n",
    "\n",
    "    #these keys don't contain stars so ignore them in the loop creating the df\n",
    "    ignored_keys = {'add_pbh', 'lat_bin_edges', 'long_bin_edges'}\n",
    "    key_list = list(no_ffp_hdf5_file)\n",
    "    key_list = [key for key in key_list if key not in ignored_keys]\n",
    "\n",
    "    hdf5_dset_names = no_ffp_hdf5_file[key_list[0]][:].dtype.names\n",
    "    comp_dtype = synthetic._generate_comp_dtype(hdf5_dset_names)\n",
    "\n",
    "    #If we want to compare to no pbhs, set this to false and use non-pbh h5 as 'hdf5_file'\n",
    "    ffp_hdf5_file[\"add_pbh\"] = True\n",
    "\n",
    "    lat_bin = no_ffp_hdf5_file[\"lat_bin_edges\"][:]\n",
    "    long_bin = no_ffp_hdf5_file[\"long_bin_edges\"][:]\n",
    "\n",
    "    for idx, key in enumerate(key_list):\n",
    "        key_data = no_ffp_hdf5_file[key][:]\n",
    "        #copy the stars in this bin (assuming 1 ffp per star implicitly)\n",
    "        ffp_data_in_key = copy.deepcopy(key_data)\n",
    "        #modify the copy to use the ffp params\n",
    "        inject_ffp_params(ffp_data_in_key)\n",
    "        combined_data = np.hstack((key_data, ffp_data_in_key))\n",
    "        # cant use combined data for now because it complains about duplicate postions (l, b)\n",
    "        # which messes up a nearest neighbors search\n",
    "        # combined_data = ffp_data_in_key\n",
    "\n",
    "        _ = ffp_hdf5_file.create_dataset(\n",
    "            key, shape=(combined_data.shape[0],), dtype=comp_dtype, data=combined_data\n",
    "        )\n",
    "        \n",
    "    _ = ffp_hdf5_file.create_dataset(\"lat_bin_edges\", (len(lat_bin), 1), data=lat_bin)\n",
    "    _ = ffp_hdf5_file.create_dataset(\"long_bin_edges\", (len(lat_bin), 1), data=long_bin)\n",
    "\n",
    "    no_ffp_hdf5_file.close()\n",
    "    ffp_hdf5_file.close()\n"
   ]
  },
  {
   "cell_type": "code",
   "execution_count": 18,
   "metadata": {},
   "outputs": [],
   "source": [
    "inject_ffps()"
   ]
  },
  {
   "cell_type": "code",
   "execution_count": 19,
   "metadata": {},
   "outputs": [
    {
     "name": "stdout",
     "output_type": "stream",
     "text": [
      "<KeysViewHDF5 ['add_pbh', 'l0b0', 'l0b1', 'l1b0', 'l1b1', 'lat_bin_edges', 'long_bin_edges']>\n"
     ]
    }
   ],
   "source": [
    "file_path = 'generated_files/modified_ffp.h5'\n",
    "with h5py.File(file_path, 'r') as f:\n",
    "    print(f.keys())\n",
    "    dat2 = np.array(f['l0b0'])"
   ]
  },
  {
   "cell_type": "markdown",
   "metadata": {},
   "source": [
    "### Now let's try and calculate events for this new population file"
   ]
  },
  {
   "cell_type": "code",
   "execution_count": 172,
   "metadata": {},
   "outputs": [
    {
     "name": "stdout",
     "output_type": "stream",
     "text": [
      "Working on loop ll, bb =  0 0\n"
     ]
    }
   ],
   "source": [
    "#Set to Roman Params from paper\n",
    "synthetic.calc_events(hdf5_file = 'generated_files/modified_ffp.h5', \n",
    "                      output_root2 = 'generated_files/modified_ffp_output', \n",
    "                      radius_cut = 2,\n",
    "                      obs_time = mock_roman_params[\"obs_time\"], \n",
    "                      n_obs = int(mock_roman_params[\"obs_time\"]/mock_roman_params[\"cadence\"]), \n",
    "                      theta_frac = 2, \n",
    "                      blend_rad = mock_roman_params[\"blend_rad\"], \n",
    "                      overwrite = True, \n",
    "                      n_proc = 7,) #adjust based on your number of cores"
   ]
  },
  {
   "attachments": {},
   "cell_type": "markdown",
   "metadata": {},
   "source": [
    "There are 16 events when I don't replace values in the dict with ffp values and 56 events when I do inject the ffp values. This drops to 0 when I set all the masses to jupiter mass rather than 1 solar mass. "
   ]
  },
  {
   "cell_type": "code",
   "execution_count": 2,
   "metadata": {},
   "outputs": [
    {
     "name": "stdout",
     "output_type": "stream",
     "text": [
      "Original candidate events:  251\n",
      "Candidate events in survey window:  156\n",
      "refine_events runtime : 2.029278 s\n"
     ]
    }
   ],
   "source": [
    "synthetic.refine_events(input_root = 'generated_files/modified_ffp_output', \n",
    "                        filter_name = 'I',\n",
    "                        photometric_system = 'ubv',\n",
    "                        red_law = 'Damineli16', \n",
    "                        overwrite = True, \n",
    "                        output_file = 'default')"
   ]
  },
  {
   "attachments": {},
   "cell_type": "markdown",
   "metadata": {},
   "source": [
    "## Look at the outputs"
   ]
  },
  {
   "cell_type": "code",
   "execution_count": 3,
   "metadata": {},
   "outputs": [
    {
     "name": "stdout",
     "output_type": "stream",
     "text": [
      "['zams_mass_L', 'mass_L', 'px_L', 'py_L', 'pz_L', 'vx_L', 'vy_L', 'vz_L', 'age_L', 'popid_L', 'exbv_L', 'glat_L', 'glon_L', 'mbol_L', 'grav_L', 'teff_L', 'feh_L', 'rad_L', 'rem_id_L', 'obj_id_L', 'ubv_J_L', 'ubv_H_L', 'ubv_K_L', 'ubv_U_L', 'ubv_I_L', 'ubv_B_L', 'ubv_V_L', 'ubv_R_L', 'vr_L', 'mu_b_L', 'mu_lcosb_L', 'zams_mass_S', 'mass_S', 'px_S', 'py_S', 'pz_S', 'vx_S', 'vy_S', 'vz_S', 'age_S', 'popid_S', 'exbv_S', 'glat_S', 'glon_S', 'mbol_S', 'grav_S', 'teff_S', 'feh_S', 'rad_S', 'rem_id_S', 'obj_id_S', 'ubv_J_S', 'ubv_H_S', 'ubv_K_S', 'ubv_U_S', 'ubv_I_S', 'ubv_B_S', 'ubv_V_S', 'ubv_R_S', 'vr_S', 'mu_b_S', 'mu_lcosb_S', 'theta_E', 'u0', 'mu_rel', 't0', 't_E', 'ubv_I_app_S', 'ubv_I_app_L', 'cent_glon_I_N', 'cent_glat_I_N', 'ubv_I_app_N', 'ubv_I_app_LSN', 'delta_m_I', 'f_blend_I', 'pi_rel', 'pi_E']\n"
     ]
    }
   ],
   "source": [
    "# t = Table.read('example_refined_events_i_Damineli16.fits')\n",
    "t = Table.read('generated_files/modified_ffp_output_refined_events_ubv_I_Damineli16.fits')\n",
    "\n",
    "print(t.colnames)"
   ]
  },
  {
   "attachments": {},
   "cell_type": "markdown",
   "metadata": {},
   "source": [
    "## Figure out how many events due to BH, NS, WD, star, and FFPS!"
   ]
  },
  {
   "cell_type": "code",
   "execution_count": 4,
   "metadata": {},
   "outputs": [
    {
     "name": "stdout",
     "output_type": "stream",
     "text": [
      "Number of FFPs: 96\n",
      "Number of PBHs: 2\n",
      "Number of BHs: 1\n",
      "Number of NSs: 0\n",
      "Number of WDs: 9\n",
      "Number of stars: 48\n"
     ]
    }
   ],
   "source": [
    "ffp_idx = np.where(t['rem_id_L'] == 105)[0]\n",
    "pbh_idx = np.where(t['rem_id_L'] == 104)[0]\n",
    "bh_idx = np.where(t['rem_id_L'] == 103)[0]\n",
    "ns_idx = np.where(t['rem_id_L'] == 102)[0]\n",
    "wd_idx = np.where(t['rem_id_L'] == 101)[0]\n",
    "st_idx = np.where(t['rem_id_L'] == 0)[0]\n",
    "print('Number of FFPs: ' + str(len(ffp_idx)))\n",
    "print('Number of PBHs: ' + str(len(pbh_idx)))\n",
    "print('Number of BHs: ' + str(len(bh_idx)))\n",
    "print('Number of NSs: ' + str(len(ns_idx)))\n",
    "print('Number of WDs: ' + str(len(wd_idx)))\n",
    "print('Number of stars: ' + str(len(st_idx)))"
   ]
  },
  {
   "cell_type": "markdown",
   "metadata": {},
   "source": [
    "## Histogram of tE"
   ]
  },
  {
   "cell_type": "code",
   "execution_count": 5,
   "metadata": {},
   "outputs": [
    {
     "data": {
      "image/png": "[encoded data removed]",
      "text/plain": [
       "<Figure size 640x480 with 1 Axes>"
      ]
     },
     "metadata": {},
     "output_type": "display_data"
    }
   ],
   "source": [
    "plt.hist(t['t_E'], bins = np.logspace(0, 2.5, 15))\n",
    "plt.xscale('log')\n",
    "plt.yscale('log')\n",
    "plt.xlabel('$t_E$ (days)')\n",
    "plt.show()"
   ]
  },
  {
   "cell_type": "markdown",
   "metadata": {},
   "source": [
    "## piE vs tE"
   ]
  },
  {
   "cell_type": "code",
   "execution_count": 6,
   "metadata": {},
   "outputs": [
    {
     "data": {
      "image/png": "[encoded data removed]",
      "text/plain": [
       "<Figure size 640x480 with 1 Axes>"
      ]
     },
     "metadata": {},
     "output_type": "display_data"
    }
   ],
   "source": [
    "plt.scatter(t['t_E'][pbh_idx], t['pi_E'][pbh_idx], color = 'limegreen', marker='o', label = 'PBH', alpha=0.5)\n",
    "plt.scatter(t['t_E'][bh_idx], t['pi_E'][bh_idx], color = 'pink', marker='<', label = 'BH', alpha=0.5)\n",
    "plt.scatter(t['t_E'][st_idx], t['pi_E'][st_idx], color = 'blue', marker='*', label = 'Star', alpha=0.5)\n",
    "plt.scatter(t['t_E'][wd_idx], t['pi_E'][wd_idx], color = 'orange', marker='D', label = 'WD', alpha=0.5)\n",
    "plt.scatter(t['t_E'][ns_idx], t['pi_E'][ns_idx], color = 'lightgreen', marker='x', label = 'NS', alpha=0.5)\n",
    "plt.scatter(t['t_E'][ffp_idx], t['pi_E'][ffp_idx], color = 'red', marker='.', label = 'FFP', alpha=0.5)\n",
    "\n",
    "\n",
    "plt.xscale('log')\n",
    "plt.yscale('log')\n",
    "plt.xlabel('$t_E$ (days)')\n",
    "plt.ylabel('$\\pi_E$')\n",
    "plt.xlim(2e-1, 3e3)\n",
    "plt.ylim(4e-4, 5e0)\n",
    "plt.legend()\n",
    "plt.show()"
   ]
  },
  {
   "cell_type": "markdown",
   "metadata": {},
   "source": [
    "## dL vs dS"
   ]
  },
  {
   "cell_type": "code",
   "execution_count": 168,
   "metadata": {},
   "outputs": [
    {
     "data": {
      "image/png": "[encoded data removed]",
      "text/plain": [
       "<Figure size 640x480 with 1 Axes>"
      ]
     },
     "metadata": {},
     "output_type": "display_data"
    }
   ],
   "source": [
    "plt.scatter(t['rad_L'], t['rad_S'])\n",
    "plt.xlabel('$d_L$ (kpc)')\n",
    "plt.ylabel('$d_S$ (kpc)')\n",
    "plt.show()"
   ]
  },
  {
   "cell_type": "code",
   "execution_count": null,
   "metadata": {},
   "outputs": [],
   "source": []
  }
 ],
 "metadata": {
  "kernelspec": {
   "display_name": "Python 3",
   "language": "python",
   "name": "python3"
  },
  "language_info": {
   "codemirror_mode": {
    "name": "ipython",
    "version": 3
   },
   "file_extension": ".py",
   "mimetype": "text/x-python",
   "name": "python",
   "nbconvert_exporter": "python",
   "pygments_lexer": "ipython3",
   "version": "3.8.10"
  },
  "pycharm": {
   "stem_cell": {
    "cell_type": "raw",
    "metadata": {
     "collapsed": false
    },
    "source": []
   }
  },
  "vscode": {
   "interpreter": {
    "hash": "e7370f93d1d0cde622a1f8e1c04877d8463912d04d973331ad4851f04de6915a"
   }
  }
 },
 "nbformat": 4,
 "nbformat_minor": 2
}
